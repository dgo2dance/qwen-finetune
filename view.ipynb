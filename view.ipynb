{
 "cells": [
  {
   "cell_type": "code",
   "execution_count": 18,
   "outputs": [
    {
     "data": {
      "text/plain": "              publish_time   tag_code tag_name  \\\n108658 2022-09-17 02:05:14  SH_601886     江河集团   \n117921 2022-09-25 22:08:00  SZ_300436      广生堂   \n107897 2022-09-16 17:25:38  NQ_872660     江苏轩瑞   \n96180  2022-09-07 23:53:50  SZ_000045     深纺织A   \n111644 2022-09-20 17:10:08  SZ_002609     捷顺科技   \n\n                                                  content  \\\n108658  股票代码：601886          股票简称：江河集团     公告编号：临2022-...   \n117921  广生堂(300436)开展的抗新冠口服药研发迎来重要进展。9月25日晚间，广生堂发布公告披露...   \n107897  每经讯，2022年9月16日，新三板基础层公司江苏轩瑞(872660)登上龙虎榜，交易方式是...   \n96180   每经AI快讯，有投资者在投资者互动平台提问：公司生产的车载偏光片目前在跟那些面板公司对接和测...   \n111644  每经AI快讯，有投资者在投资者互动平台提问：请问公司在日本的子公司目前效益如何？能有效的缓解...   \n\n                                                   result  \\\n108658  {\"reason\": \"江河集团全资子公司近日中标了平安信用卡大厦项目幕墙专业分包工程，中标...   \n117921  {\"reason\": \"广生堂发布的抗新冠口服药研发取得重要进展，获得国家药监局的临床试验批...   \n107897  {\"reason\": \"江苏轩瑞公司股票在当日交易中出现了较大的价格振幅，成交数量和成交金额...   \n96180   {\"reason\": \"深纺织A公司在投资者互动平台表示，公司作为偏光片生产厂商，已经与下游...   \n111644  {\"reason\": \"捷顺科技在投资者互动平台表示，公司未在日本设立子公司，这意味着公司目...   \n\n                                                   reason  sentiment  impact  \n108658  江河集团全资子公司近日中标了平安信用卡大厦项目幕墙专业分包工程，中标金额占公司2021年度营...       0.75    0.65  \n117921  广生堂发布的抗新冠口服药研发取得重要进展，获得国家药监局的临床试验批准通知书，显示公司在新冠...       0.85    0.85  \n107897  江苏轩瑞公司股票在当日交易中出现了较大的价格振幅，成交数量和成交金额较小，但仍吸引了兴业证券...       0.25    0.35  \n96180   深纺织A公司在投资者互动平台表示，公司作为偏光片生产厂商，已经与下游面板厂商对接，开展产品测...       0.65    0.80  \n111644  捷顺科技在投资者互动平台表示，公司未在日本设立子公司，这意味着公司目前并没有在日本开展业务，...      -0.65    0.45  ",
      "text/html": "<div>\n<style scoped>\n    .dataframe tbody tr th:only-of-type {\n        vertical-align: middle;\n    }\n\n    .dataframe tbody tr th {\n        vertical-align: top;\n    }\n\n    .dataframe thead th {\n        text-align: right;\n    }\n</style>\n<table border=\"1\" class=\"dataframe\">\n  <thead>\n    <tr style=\"text-align: right;\">\n      <th></th>\n      <th>publish_time</th>\n      <th>tag_code</th>\n      <th>tag_name</th>\n      <th>content</th>\n      <th>result</th>\n      <th>reason</th>\n      <th>sentiment</th>\n      <th>impact</th>\n    </tr>\n  </thead>\n  <tbody>\n    <tr>\n      <th>108658</th>\n      <td>2022-09-17 02:05:14</td>\n      <td>SH_601886</td>\n      <td>江河集团</td>\n      <td>股票代码：601886          股票简称：江河集团     公告编号：临2022-...</td>\n      <td>{\"reason\": \"江河集团全资子公司近日中标了平安信用卡大厦项目幕墙专业分包工程，中标...</td>\n      <td>江河集团全资子公司近日中标了平安信用卡大厦项目幕墙专业分包工程，中标金额占公司2021年度营...</td>\n      <td>0.75</td>\n      <td>0.65</td>\n    </tr>\n    <tr>\n      <th>117921</th>\n      <td>2022-09-25 22:08:00</td>\n      <td>SZ_300436</td>\n      <td>广生堂</td>\n      <td>广生堂(300436)开展的抗新冠口服药研发迎来重要进展。9月25日晚间，广生堂发布公告披露...</td>\n      <td>{\"reason\": \"广生堂发布的抗新冠口服药研发取得重要进展，获得国家药监局的临床试验批...</td>\n      <td>广生堂发布的抗新冠口服药研发取得重要进展，获得国家药监局的临床试验批准通知书，显示公司在新冠...</td>\n      <td>0.85</td>\n      <td>0.85</td>\n    </tr>\n    <tr>\n      <th>107897</th>\n      <td>2022-09-16 17:25:38</td>\n      <td>NQ_872660</td>\n      <td>江苏轩瑞</td>\n      <td>每经讯，2022年9月16日，新三板基础层公司江苏轩瑞(872660)登上龙虎榜，交易方式是...</td>\n      <td>{\"reason\": \"江苏轩瑞公司股票在当日交易中出现了较大的价格振幅，成交数量和成交金额...</td>\n      <td>江苏轩瑞公司股票在当日交易中出现了较大的价格振幅，成交数量和成交金额较小，但仍吸引了兴业证券...</td>\n      <td>0.25</td>\n      <td>0.35</td>\n    </tr>\n    <tr>\n      <th>96180</th>\n      <td>2022-09-07 23:53:50</td>\n      <td>SZ_000045</td>\n      <td>深纺织A</td>\n      <td>每经AI快讯，有投资者在投资者互动平台提问：公司生产的车载偏光片目前在跟那些面板公司对接和测...</td>\n      <td>{\"reason\": \"深纺织A公司在投资者互动平台表示，公司作为偏光片生产厂商，已经与下游...</td>\n      <td>深纺织A公司在投资者互动平台表示，公司作为偏光片生产厂商，已经与下游面板厂商对接，开展产品测...</td>\n      <td>0.65</td>\n      <td>0.80</td>\n    </tr>\n    <tr>\n      <th>111644</th>\n      <td>2022-09-20 17:10:08</td>\n      <td>SZ_002609</td>\n      <td>捷顺科技</td>\n      <td>每经AI快讯，有投资者在投资者互动平台提问：请问公司在日本的子公司目前效益如何？能有效的缓解...</td>\n      <td>{\"reason\": \"捷顺科技在投资者互动平台表示，公司未在日本设立子公司，这意味着公司目...</td>\n      <td>捷顺科技在投资者互动平台表示，公司未在日本设立子公司，这意味着公司目前并没有在日本开展业务，...</td>\n      <td>-0.65</td>\n      <td>0.45</td>\n    </tr>\n  </tbody>\n</table>\n</div>"
     },
     "execution_count": 18,
     "metadata": {},
     "output_type": "execute_result"
    }
   ],
   "source": [
    "import pandas as pd\n",
    "df = pd.read_pickle('data/news/label_data.pkl')\n",
    "df.head()"
   ],
   "metadata": {
    "collapsed": false,
    "ExecuteTime": {
     "end_time": "2023-12-21T10:19:23.946035Z",
     "start_time": "2023-12-21T10:19:23.484248Z"
    }
   },
   "id": "3b85643cda91c4ed"
  }
 ],
 "metadata": {
  "kernelspec": {
   "display_name": "Python 3",
   "language": "python",
   "name": "python3"
  },
  "language_info": {
   "codemirror_mode": {
    "name": "ipython",
    "version": 2
   },
   "file_extension": ".py",
   "mimetype": "text/x-python",
   "name": "python",
   "nbconvert_exporter": "python",
   "pygments_lexer": "ipython2",
   "version": "2.7.6"
  }
 },
 "nbformat": 4,
 "nbformat_minor": 5
}
